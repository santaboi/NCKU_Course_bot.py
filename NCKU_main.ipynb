{
 "cells": [
  {
   "cell_type": "code",
   "execution_count": 23,
   "id": "63a4bdd7",
   "metadata": {},
   "outputs": [],
   "source": [
    "from selenium import webdriver\n",
    "from selenium.webdriver.support.wait import WebDriverWait\n",
    "from selenium.webdriver.support import expected_conditions as EC\n",
    "from selenium.webdriver.common.action_chains import ActionChains\n",
    "from selenium.webdriver.common.by import By\n",
    "from PIL import Image"
   ]
  },
  {
   "cell_type": "code",
   "execution_count": 24,
   "id": "92154310",
   "metadata": {},
   "outputs": [],
   "source": [
    "PATH = \"C:\\Program Files (x86)\\chromedriver.exe\"\n",
    "browser = webdriver.Chrome(PATH)\n",
    "url = \"https://course.ncku.edu.tw/\" \n",
    "browser.get(url) "
   ]
  },
  {
   "cell_type": "code",
   "execution_count": 25,
   "id": "364bb5f8",
   "metadata": {},
   "outputs": [],
   "source": [
    "log_button = WebDriverWait(browser, 10).until(EC.presence_of_element_located((By.CLASS_NAME, \"fas.fa-sign-in-alt\")))\n",
    "log_button.click() #click1\n",
    "\n",
    "log_button = WebDriverWait(browser, 10).until(EC.presence_of_element_located((By.CLASS_NAME, \"btn.btn-default\")))\n",
    "log_button.click() #click for cheng kung portal"
   ]
  },
  {
   "cell_type": "code",
   "execution_count": 26,
   "id": "5d78bc64",
   "metadata": {},
   "outputs": [
    {
     "name": "stdout",
     "output_type": "stream",
     "text": [
      "inputing username and password...\n"
     ]
    }
   ],
   "source": [
    "print(\"inputing username and password...\") \n",
    "user_id = WebDriverWait(browser, 10).until(EC.presence_of_element_located((By.NAME, \"UserName\")))\n",
    "user_id.send_keys(\"E94081107\") #personal_ID : fill in yourself!!!!!!!!!!!!!\n",
    "password_input = WebDriverWait(browser, 10).until(EC.presence_of_element_located((By.NAME, \"Password\")))\n",
    "password_input.send_keys(\"            \") #personal_password : fill in yourself!!!!!!!!!!!!!!!!\n",
    "\n",
    "log_button = browser.find_element_by_id(\"              \")\n",
    "log_button.click() #click for logging in"
   ]
  },
  {
   "cell_type": "code",
   "execution_count": 27,
   "id": "ad2e486f",
   "metadata": {},
   "outputs": [],
   "source": [
    "#成功入口重複登入\n",
    "exception1 = browser.find_element_by_link_text(\"若不想等,想刪除之前的連線,請點我\") \n",
    "if exception1 != None : \n",
    "    exception1.click() #click to force logging"
   ]
  },
  {
   "cell_type": "code",
   "execution_count": 28,
   "id": "89f6025d",
   "metadata": {},
   "outputs": [],
   "source": [
    "#跳轉到預排課清單"
   ]
  },
  {
   "cell_type": "code",
   "execution_count": null,
   "id": "4a527947",
   "metadata": {},
   "outputs": [],
   "source": [
    "#找到button 再次按下\n",
    "#沒有搶到的話繼續按\n",
    "#直到搶到才停"
   ]
  }
 ],
 "metadata": {
  "kernelspec": {
   "display_name": "Python 3",
   "language": "python",
   "name": "python3"
  },
  "language_info": {
   "codemirror_mode": {
    "name": "ipython",
    "version": 3
   },
   "file_extension": ".py",
   "mimetype": "text/x-python",
   "name": "python",
   "nbconvert_exporter": "python",
   "pygments_lexer": "ipython3",
   "version": "3.8.8"
  }
 },
 "nbformat": 4,
 "nbformat_minor": 5
}
